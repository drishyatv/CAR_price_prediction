{
  "cells": [
    {
      "cell_type": "markdown",
      "metadata": {
        "id": "view-in-github",
        "colab_type": "text"
      },
      "source": [
        "<a href=\"https://colab.research.google.com/github/drishyatv/CAR_price_prediction/blob/main/car_price_prediction.ipynb\" target=\"_parent\"><img src=\"https://colab.research.google.com/assets/colab-badge.svg\" alt=\"Open In Colab\"/></a>"
      ]
    },
    {
      "cell_type": "markdown",
      "id": "47adb657-b86f-4c07-a6c1-ac40394a750a",
      "metadata": {
        "id": "47adb657-b86f-4c07-a6c1-ac40394a750a"
      },
      "source": [
        "Step 1: Loading and Preprocessing\n",
        "Goal: Clean and prepare the data for modeling."
      ]
    },
    {
      "cell_type": "code",
      "execution_count": null,
      "id": "a1304f60-2d08-44d2-a779-03d0286b984a",
      "metadata": {
        "scrolled": true,
        "id": "a1304f60-2d08-44d2-a779-03d0286b984a",
        "outputId": "b3337404-9859-49b2-8bca-6916c44da6ce"
      },
      "outputs": [
        {
          "name": "stdout",
          "output_type": "stream",
          "text": [
            "<class 'pandas.core.frame.DataFrame'>\n",
            "RangeIndex: 205 entries, 0 to 204\n",
            "Data columns (total 26 columns):\n",
            " #   Column            Non-Null Count  Dtype  \n",
            "---  ------            --------------  -----  \n",
            " 0   car_ID            205 non-null    int64  \n",
            " 1   symboling         205 non-null    int64  \n",
            " 2   CarName           205 non-null    object \n",
            " 3   fueltype          205 non-null    object \n",
            " 4   aspiration        205 non-null    object \n",
            " 5   doornumber        205 non-null    object \n",
            " 6   carbody           205 non-null    object \n",
            " 7   drivewheel        205 non-null    object \n",
            " 8   enginelocation    205 non-null    object \n",
            " 9   wheelbase         205 non-null    float64\n",
            " 10  carlength         205 non-null    float64\n",
            " 11  carwidth          205 non-null    float64\n",
            " 12  carheight         205 non-null    float64\n",
            " 13  curbweight        205 non-null    int64  \n",
            " 14  enginetype        205 non-null    object \n",
            " 15  cylindernumber    205 non-null    object \n",
            " 16  enginesize        205 non-null    int64  \n",
            " 17  fuelsystem        205 non-null    object \n",
            " 18  boreratio         205 non-null    float64\n",
            " 19  stroke            205 non-null    float64\n",
            " 20  compressionratio  205 non-null    float64\n",
            " 21  horsepower        205 non-null    int64  \n",
            " 22  peakrpm           205 non-null    int64  \n",
            " 23  citympg           205 non-null    int64  \n",
            " 24  highwaympg        205 non-null    int64  \n",
            " 25  price             205 non-null    float64\n",
            "dtypes: float64(8), int64(8), object(10)\n",
            "memory usage: 41.8+ KB\n",
            "None\n",
            "car_ID              0\n",
            "symboling           0\n",
            "CarName             0\n",
            "fueltype            0\n",
            "aspiration          0\n",
            "doornumber          0\n",
            "carbody             0\n",
            "drivewheel          0\n",
            "enginelocation      0\n",
            "wheelbase           0\n",
            "carlength           0\n",
            "carwidth            0\n",
            "carheight           0\n",
            "curbweight          0\n",
            "enginetype          0\n",
            "cylindernumber      0\n",
            "enginesize          0\n",
            "fuelsystem          0\n",
            "boreratio           0\n",
            "stroke              0\n",
            "compressionratio    0\n",
            "horsepower          0\n",
            "peakrpm             0\n",
            "citympg             0\n",
            "highwaympg          0\n",
            "price               0\n",
            "dtype: int64\n"
          ]
        },
        {
          "name": "stderr",
          "output_type": "stream",
          "text": [
            "C:\\Users\\ANJ\\AppData\\Local\\Temp\\ipykernel_15232\\3233656496.py:16: FutureWarning: A value is trying to be set on a copy of a DataFrame or Series through chained assignment using an inplace method.\n",
            "The behavior will change in pandas 3.0. This inplace method will never work because the intermediate object on which we are setting values always behaves as a copy.\n",
            "\n",
            "For example, when doing 'df[col].method(value, inplace=True)', try using 'df.method({col: value}, inplace=True)' or df[col] = df[col].method(value) instead, to perform the operation inplace on the original object.\n",
            "\n",
            "\n",
            "  df['CarBrand'].replace({\n"
          ]
        }
      ],
      "source": [
        "# Import required libraries\n",
        "\n",
        "import pandas as pd\n",
        "import numpy as np\n",
        "\n",
        "# Load the dataset\n",
        "\n",
        "df = pd.read_csv(r'C:\\Users\\ANJ\\Downloads\\CarPrice_Assignment.csv')\n",
        "\n",
        "# Display structure and missing values\n",
        "\n",
        "print(df.info())\n",
        "print(df.isnull().sum())\n",
        "\n",
        "# Extract Car Brand from CarName\n",
        "\n",
        "df['CarBrand'] = df['CarName'].apply(lambda x: x.split(' ')[0].lower())\n",
        "\n",
        "# Correct spelling errors in brand names\n",
        "\n",
        "df['CarBrand'].replace({\n",
        "    'vw': 'volkswagen', 'vokswagen': 'volkswagen',\n",
        "    'porcshce': 'porsche', 'maxda': 'mazda',\n",
        "    'toyouta': 'toyota'\n",
        "}, inplace=True)\n",
        "\n",
        "# Drop unnecessary columns\n",
        "\n",
        "df.drop(['car_ID', 'CarName'], axis=1, inplace=True)\n",
        "\n",
        "# One-hot encode categorical columns\n",
        "\n",
        "categorical_cols = df.select_dtypes(include='object').columns\n",
        "df = pd.get_dummies(df, columns=categorical_cols, drop_first=True)\n",
        "\n",
        "# Separate features and target\n",
        "\n",
        "X = df.drop('price', axis=1)\n",
        "y = df['price']\n",
        "\n",
        "# Scale features (for SVR especially)\n",
        "\n",
        "from sklearn.preprocessing import StandardScaler\n",
        "scaler = StandardScaler()\n",
        "X_scaled = scaler.fit_transform(X)\n"
      ]
    },
    {
      "cell_type": "markdown",
      "id": "b8760df4-4bf9-4f1a-8a03-06520fe35909",
      "metadata": {
        "id": "b8760df4-4bf9-4f1a-8a03-06520fe35909"
      },
      "source": [
        "\n",
        "Step 2: Train/Test Split"
      ]
    },
    {
      "cell_type": "code",
      "execution_count": null,
      "id": "27a7f972-1375-4f69-8f11-fd1bd254446a",
      "metadata": {
        "id": "27a7f972-1375-4f69-8f11-fd1bd254446a"
      },
      "outputs": [],
      "source": [
        "from sklearn.model_selection import train_test_split\n",
        "\n",
        "X_train, X_test, y_train, y_test = train_test_split(\n",
        "    X_scaled, y, test_size=0.2, random_state=42\n",
        ")\n"
      ]
    },
    {
      "cell_type": "markdown",
      "id": "32c00dde-70c3-4c68-978a-2f6657457ed2",
      "metadata": {
        "id": "32c00dde-70c3-4c68-978a-2f6657457ed2"
      },
      "source": [
        "\n",
        "Step 3: Model Implementation"
      ]
    },
    {
      "cell_type": "code",
      "execution_count": null,
      "id": "56e8197c-e125-42c9-a18d-1cf1b01b9a4d",
      "metadata": {
        "id": "56e8197c-e125-42c9-a18d-1cf1b01b9a4d"
      },
      "outputs": [],
      "source": [
        "from sklearn.linear_model import LinearRegression\n",
        "from sklearn.tree import DecisionTreeRegressor\n",
        "from sklearn.ensemble import RandomForestRegressor, GradientBoostingRegressor\n",
        "from sklearn.svm import SVR\n",
        "\n",
        "# Define models\n",
        "models = {\n",
        "    'Linear Regression': LinearRegression(),\n",
        "    'Decision Tree': DecisionTreeRegressor(random_state=42),\n",
        "    'Random Forest': RandomForestRegressor(random_state=42),\n",
        "    'Gradient Boosting': GradientBoostingRegressor(random_state=42),\n",
        "    'SVR': SVR()\n",
        "}\n",
        "\n",
        "# Train all models\n",
        "for name, model in models.items():\n",
        "    model.fit(X_train, y_train)\n"
      ]
    },
    {
      "cell_type": "code",
      "execution_count": null,
      "id": "4ac60a0c-83c4-4b30-8b49-9fe44e3c236f",
      "metadata": {
        "id": "4ac60a0c-83c4-4b30-8b49-9fe44e3c236f",
        "outputId": "9be14d9d-f2de-44a0-c4f7-bc9bac85702d"
      },
      "outputs": [
        {
          "name": "stdout",
          "output_type": "stream",
          "text": [
            "Linear Regression has been trained successfully.\n",
            "Decision Tree has been trained successfully.\n",
            "Random Forest has been trained successfully.\n",
            "Gradient Boosting has been trained successfully.\n",
            "SVR has been trained successfully.\n"
          ]
        }
      ],
      "source": [
        "for name, model in models.items():\n",
        "    model.fit(X_train, y_train)\n",
        "    print(f\"{name} has been trained successfully.\")\n"
      ]
    },
    {
      "cell_type": "markdown",
      "id": "388396ab-464b-4953-8c03-a74ed6ba1331",
      "metadata": {
        "id": "388396ab-464b-4953-8c03-a74ed6ba1331"
      },
      "source": [
        "\n",
        "Step 4: Model Evaluation"
      ]
    },
    {
      "cell_type": "code",
      "execution_count": null,
      "id": "db226d24-8d8c-4c75-9435-8eb7811c429d",
      "metadata": {
        "id": "db226d24-8d8c-4c75-9435-8eb7811c429d",
        "outputId": "cbabf231-2cc9-411e-d2a3-764a0e5c914f"
      },
      "outputs": [
        {
          "name": "stdout",
          "output_type": "stream",
          "text": [
            "               Model  R2 Score           MSE          MAE\n",
            "2      Random Forest  0.958267  3.294575e+06  1293.233793\n",
            "3  Gradient Boosting  0.924181  5.985429e+06  1710.336389\n",
            "0  Linear Regression  0.910162  7.092188e+06  1760.870731\n",
            "1      Decision Tree  0.906907  7.349134e+06  1782.589439\n",
            "4                SVR -0.100615  8.688696e+07  5701.535525\n"
          ]
        }
      ],
      "source": [
        "from sklearn.metrics import r2_score, mean_squared_error, mean_absolute_error\n",
        "\n",
        "results = []\n",
        "\n",
        "for name, model in models.items():\n",
        "    y_pred = model.predict(X_test)\n",
        "    results.append({\n",
        "        'Model': name,\n",
        "        'R2 Score': r2_score(y_test, y_pred),\n",
        "        'MSE': mean_squared_error(y_test, y_pred),\n",
        "        'MAE': mean_absolute_error(y_test, y_pred)\n",
        "    })\n",
        "\n",
        "# Display performance\n",
        "results_df = pd.DataFrame(results).sort_values(by='R2 Score', ascending=False)\n",
        "print(results_df)\n"
      ]
    },
    {
      "cell_type": "markdown",
      "id": "57f0bddc-bfe3-4cbd-99bf-3383e3ceff59",
      "metadata": {
        "id": "57f0bddc-bfe3-4cbd-99bf-3383e3ceff59"
      },
      "source": [
        "\n",
        "\n",
        "Step 5: Feature Importance Analysis"
      ]
    },
    {
      "cell_type": "code",
      "execution_count": null,
      "id": "60d2118a-8416-4645-9c87-2eb8c470f9d6",
      "metadata": {
        "id": "60d2118a-8416-4645-9c87-2eb8c470f9d6",
        "outputId": "3b8de725-8cf5-41c1-b8f3-88abda3affb6"
      },
      "outputs": [
        {
          "data": {
            "image/png": "[encoded data removed]",
            "text/plain": [
              "<Figure size 640x480 with 1 Axes>"
            ]
          },
          "metadata": {},
          "output_type": "display_data"
        }
      ],
      "source": [
        "# Use Random Forest for feature importance\n",
        "import matplotlib.pyplot as plt\n",
        "\n",
        "rf_model = models['Random Forest']\n",
        "importances = rf_model.feature_importances_\n",
        "feature_names = X.columns\n",
        "\n",
        "# Plot top 10 features\n",
        "feat_imp = pd.Series(importances, index=feature_names)\n",
        "feat_imp.nlargest(10).plot(kind='barh')\n",
        "plt.title(\"Top 10 Important Features\")\n",
        "plt.show()\n"
      ]
    },
    {
      "cell_type": "markdown",
      "id": "63f034d5-1a0c-4286-a5e4-964c26ee180c",
      "metadata": {
        "id": "63f034d5-1a0c-4286-a5e4-964c26ee180c"
      },
      "source": [
        "\n",
        "\n",
        "Step 6: Hyperparameter Tuning"
      ]
    },
    {
      "cell_type": "code",
      "execution_count": null,
      "id": "fb05e614-0395-41f5-be5a-a5ddbdb56bb9",
      "metadata": {
        "id": "fb05e614-0395-41f5-be5a-a5ddbdb56bb9",
        "outputId": "dd81e1d8-7c8e-4197-c8ae-66a389532083"
      },
      "outputs": [
        {
          "name": "stdout",
          "output_type": "stream",
          "text": [
            "Best Parameters: {'max_depth': None, 'min_samples_split': 2, 'n_estimators': 200}\n",
            "Tuned R2 Score: 0.9594648507194989\n"
          ]
        }
      ],
      "source": [
        "from sklearn.model_selection import GridSearchCV\n",
        "\n",
        "param_grid = {\n",
        "    'n_estimators': [100, 200],\n",
        "    'max_depth': [None, 10, 20],\n",
        "    'min_samples_split': [2, 5]\n",
        "}\n",
        "\n",
        "grid_search = GridSearchCV(RandomForestRegressor(random_state=42),\n",
        "                           param_grid, cv=5, scoring='r2')\n",
        "grid_search.fit(X_train, y_train)\n",
        "\n",
        "print(\"Best Parameters:\", grid_search.best_params_)\n",
        "\n",
        "# Evaluate tuned model\n",
        "best_model = grid_search.best_estimator_\n",
        "y_pred = best_model.predict(X_test)\n",
        "print(\"Tuned R2 Score:\", r2_score(y_test, y_pred))\n"
      ]
    },
    {
      "cell_type": "code",
      "execution_count": null,
      "id": "a518fa41-86cc-495b-bd36-3cedf9715481",
      "metadata": {
        "id": "a518fa41-86cc-495b-bd36-3cedf9715481"
      },
      "outputs": [],
      "source": [
        "best_model = models['Random Forest']\n"
      ]
    },
    {
      "cell_type": "code",
      "execution_count": null,
      "id": "2665e3bb-43b3-4b23-b723-d48dace93e0e",
      "metadata": {
        "id": "2665e3bb-43b3-4b23-b723-d48dace93e0e",
        "outputId": "6e0e9f65-a575-4202-d390-a8e7d9deea58"
      },
      "outputs": [
        {
          "name": "stdout",
          "output_type": "stream",
          "text": [
            "Predicted Price: 35519.545\n"
          ]
        }
      ],
      "source": [
        "# Use the first row of X_test\n",
        "sample = X_test[0].reshape(1, -1)\n",
        "\n",
        "# Predict price\n",
        "predicted_price = best_model.predict(sample)\n",
        "print(\"Predicted Price:\", predicted_price[0])\n"
      ]
    },
    {
      "cell_type": "code",
      "execution_count": null,
      "id": "d34f530a-ba39-40ac-b775-7780b1506291",
      "metadata": {
        "id": "d34f530a-ba39-40ac-b775-7780b1506291"
      },
      "outputs": [],
      "source": []
    }
  ],
  "metadata": {
    "kernelspec": {
      "display_name": "Python [conda env:base] *",
      "language": "python",
      "name": "conda-base-py"
    },
    "language_info": {
      "codemirror_mode": {
        "name": "ipython",
        "version": 3
      },
      "file_extension": ".py",
      "mimetype": "text/x-python",
      "name": "python",
      "nbconvert_exporter": "python",
      "pygments_lexer": "ipython3",
      "version": "3.12.7"
    },
    "colab": {
      "provenance": [],
      "include_colab_link": true
    }
  },
  "nbformat": 4,
  "nbformat_minor": 5
}